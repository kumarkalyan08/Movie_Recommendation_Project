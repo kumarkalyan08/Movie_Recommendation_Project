{
 "cells": [
  {
   "cell_type": "code",
   "execution_count": 1,
   "id": "08bdb068-38bc-4fd4-bf33-d9320452b46d",
   "metadata": {},
   "outputs": [],
   "source": [
    "import pandas as pd\n",
    "import numpy as np"
   ]
  },
  {
   "cell_type": "code",
   "execution_count": 3,
   "id": "d83fb49a-4d7c-4e35-b02b-040b346fc6bb",
   "metadata": {},
   "outputs": [
    {
     "data": {
      "text/html": [
       "<div>\n",
       "<style scoped>\n",
       "    .dataframe tbody tr th:only-of-type {\n",
       "        vertical-align: middle;\n",
       "    }\n",
       "\n",
       "    .dataframe tbody tr th {\n",
       "        vertical-align: top;\n",
       "    }\n",
       "\n",
       "    .dataframe thead th {\n",
       "        text-align: right;\n",
       "    }\n",
       "</style>\n",
       "<table border=\"1\" class=\"dataframe\">\n",
       "  <thead>\n",
       "    <tr style=\"text-align: right;\">\n",
       "      <th></th>\n",
       "      <th>movieId</th>\n",
       "      <th>title</th>\n",
       "      <th>genres</th>\n",
       "    </tr>\n",
       "  </thead>\n",
       "  <tbody>\n",
       "    <tr>\n",
       "      <th>0</th>\n",
       "      <td>1</td>\n",
       "      <td>Toy Story (1995)</td>\n",
       "      <td>Adventure|Animation|Children|Comedy|Fantasy</td>\n",
       "    </tr>\n",
       "    <tr>\n",
       "      <th>1</th>\n",
       "      <td>2</td>\n",
       "      <td>Jumanji (1995)</td>\n",
       "      <td>Adventure|Children|Fantasy</td>\n",
       "    </tr>\n",
       "    <tr>\n",
       "      <th>2</th>\n",
       "      <td>3</td>\n",
       "      <td>Grumpier Old Men (1995)</td>\n",
       "      <td>Comedy|Romance</td>\n",
       "    </tr>\n",
       "    <tr>\n",
       "      <th>3</th>\n",
       "      <td>4</td>\n",
       "      <td>Waiting to Exhale (1995)</td>\n",
       "      <td>Comedy|Drama|Romance</td>\n",
       "    </tr>\n",
       "    <tr>\n",
       "      <th>4</th>\n",
       "      <td>5</td>\n",
       "      <td>Father of the Bride Part II (1995)</td>\n",
       "      <td>Comedy</td>\n",
       "    </tr>\n",
       "  </tbody>\n",
       "</table>\n",
       "</div>"
      ],
      "text/plain": [
       "   movieId                               title  \\\n",
       "0        1                    Toy Story (1995)   \n",
       "1        2                      Jumanji (1995)   \n",
       "2        3             Grumpier Old Men (1995)   \n",
       "3        4            Waiting to Exhale (1995)   \n",
       "4        5  Father of the Bride Part II (1995)   \n",
       "\n",
       "                                        genres  \n",
       "0  Adventure|Animation|Children|Comedy|Fantasy  \n",
       "1                   Adventure|Children|Fantasy  \n",
       "2                               Comedy|Romance  \n",
       "3                         Comedy|Drama|Romance  \n",
       "4                                       Comedy  "
      ]
     },
     "execution_count": 3,
     "metadata": {},
     "output_type": "execute_result"
    }
   ],
   "source": [
    "#load the data\n",
    "movies_data= pd.read_csv('movies.csv')\n",
    "movies_data.head()"
   ]
  },
  {
   "cell_type": "markdown",
   "id": "8bbeaa21-537b-41eb-8f44-3a4355c26439",
   "metadata": {},
   "source": [
    "Title contains ( ) which makes it difficult to search, so with the help of regex, remove that parenthesis"
   ]
  },
  {
   "cell_type": "code",
   "execution_count": 6,
   "id": "5b1aa11d-7f6e-4c65-a682-9b48a402f555",
   "metadata": {},
   "outputs": [],
   "source": [
    "import re"
   ]
  },
  {
   "cell_type": "code",
   "execution_count": 8,
   "id": "1b72fc33-669a-4478-9f2c-e04932abb9e6",
   "metadata": {},
   "outputs": [],
   "source": [
    "def title_cleaning(text):\n",
    "    title=text\n",
    "    cleaned_title=re.sub(\"[^A-Za-z0-9 ]\",\"\",title)\n",
    "    return cleaned_title"
   ]
  },
  {
   "cell_type": "markdown",
   "id": "e3642653-3698-49db-9aed-091d3871ebcb",
   "metadata": {},
   "source": [
    "The above function cleans the title name, let us create a new column for cleaned title."
   ]
  },
  {
   "cell_type": "code",
   "execution_count": 11,
   "id": "9c01ec83-4c84-4af2-8288-3d94eca02129",
   "metadata": {},
   "outputs": [],
   "source": [
    "movies_data['cleaned_title']= movies_data['title'].apply(title_cleaning)"
   ]
  },
  {
   "cell_type": "code",
   "execution_count": 13,
   "id": "17fe908f-0e13-4733-affd-0de01aeb9953",
   "metadata": {},
   "outputs": [
    {
     "data": {
      "text/html": [
       "<div>\n",
       "<style scoped>\n",
       "    .dataframe tbody tr th:only-of-type {\n",
       "        vertical-align: middle;\n",
       "    }\n",
       "\n",
       "    .dataframe tbody tr th {\n",
       "        vertical-align: top;\n",
       "    }\n",
       "\n",
       "    .dataframe thead th {\n",
       "        text-align: right;\n",
       "    }\n",
       "</style>\n",
       "<table border=\"1\" class=\"dataframe\">\n",
       "  <thead>\n",
       "    <tr style=\"text-align: right;\">\n",
       "      <th></th>\n",
       "      <th>movieId</th>\n",
       "      <th>title</th>\n",
       "      <th>genres</th>\n",
       "      <th>cleaned_title</th>\n",
       "    </tr>\n",
       "  </thead>\n",
       "  <tbody>\n",
       "    <tr>\n",
       "      <th>0</th>\n",
       "      <td>1</td>\n",
       "      <td>Toy Story (1995)</td>\n",
       "      <td>Adventure|Animation|Children|Comedy|Fantasy</td>\n",
       "      <td>Toy Story 1995</td>\n",
       "    </tr>\n",
       "    <tr>\n",
       "      <th>1</th>\n",
       "      <td>2</td>\n",
       "      <td>Jumanji (1995)</td>\n",
       "      <td>Adventure|Children|Fantasy</td>\n",
       "      <td>Jumanji 1995</td>\n",
       "    </tr>\n",
       "    <tr>\n",
       "      <th>2</th>\n",
       "      <td>3</td>\n",
       "      <td>Grumpier Old Men (1995)</td>\n",
       "      <td>Comedy|Romance</td>\n",
       "      <td>Grumpier Old Men 1995</td>\n",
       "    </tr>\n",
       "    <tr>\n",
       "      <th>3</th>\n",
       "      <td>4</td>\n",
       "      <td>Waiting to Exhale (1995)</td>\n",
       "      <td>Comedy|Drama|Romance</td>\n",
       "      <td>Waiting to Exhale 1995</td>\n",
       "    </tr>\n",
       "    <tr>\n",
       "      <th>4</th>\n",
       "      <td>5</td>\n",
       "      <td>Father of the Bride Part II (1995)</td>\n",
       "      <td>Comedy</td>\n",
       "      <td>Father of the Bride Part II 1995</td>\n",
       "    </tr>\n",
       "  </tbody>\n",
       "</table>\n",
       "</div>"
      ],
      "text/plain": [
       "   movieId                               title  \\\n",
       "0        1                    Toy Story (1995)   \n",
       "1        2                      Jumanji (1995)   \n",
       "2        3             Grumpier Old Men (1995)   \n",
       "3        4            Waiting to Exhale (1995)   \n",
       "4        5  Father of the Bride Part II (1995)   \n",
       "\n",
       "                                        genres  \\\n",
       "0  Adventure|Animation|Children|Comedy|Fantasy   \n",
       "1                   Adventure|Children|Fantasy   \n",
       "2                               Comedy|Romance   \n",
       "3                         Comedy|Drama|Romance   \n",
       "4                                       Comedy   \n",
       "\n",
       "                      cleaned_title  \n",
       "0                    Toy Story 1995  \n",
       "1                      Jumanji 1995  \n",
       "2             Grumpier Old Men 1995  \n",
       "3            Waiting to Exhale 1995  \n",
       "4  Father of the Bride Part II 1995  "
      ]
     },
     "execution_count": 13,
     "metadata": {},
     "output_type": "execute_result"
    }
   ],
   "source": [
    "movies_data.head()"
   ]
  },
  {
   "cell_type": "markdown",
   "id": "b7dbc107-a557-4c26-bb5a-8bca5ad636ce",
   "metadata": {},
   "source": [
    "let us convert the titles into numbers using tf-idf vector"
   ]
  },
  {
   "cell_type": "code",
   "execution_count": 16,
   "id": "245107c6-aba7-4387-83a5-daf7676c8a68",
   "metadata": {},
   "outputs": [],
   "source": [
    "from sklearn.feature_extraction.text import TfidfVectorizer"
   ]
  },
  {
   "cell_type": "code",
   "execution_count": 18,
   "id": "1ba16031-e548-498d-a010-bcaebea8bd08",
   "metadata": {},
   "outputs": [],
   "source": [
    "Tf_id= TfidfVectorizer(ngram_range=(1,2))\n",
    "title_matrix=Tf_id.fit_transform(movies_data['cleaned_title'])"
   ]
  },
  {
   "cell_type": "code",
   "execution_count": 20,
   "id": "29958dd0-0f04-4693-8420-43d584a2b733",
   "metadata": {},
   "outputs": [
    {
     "data": {
      "text/plain": [
       "<62423x170073 sparse matrix of type '<class 'numpy.float64'>'\n",
       "\twith 446566 stored elements in Compressed Sparse Row format>"
      ]
     },
     "execution_count": 20,
     "metadata": {},
     "output_type": "execute_result"
    }
   ],
   "source": [
    "title_matrix"
   ]
  },
  {
   "cell_type": "markdown",
   "id": "9aa8926a-2e8c-43b6-b4b0-f6fc8d11d071",
   "metadata": {},
   "source": [
    "Now to find out the similar movies based on the search, we should find similarity score. we can use cosine similarity for that."
   ]
  },
  {
   "cell_type": "code",
   "execution_count": 23,
   "id": "4c18e561-282c-4ff4-a1d9-590e41f87367",
   "metadata": {},
   "outputs": [],
   "source": [
    "from sklearn.metrics.pairwise import cosine_similarity"
   ]
  },
  {
   "cell_type": "code",
   "execution_count": 25,
   "id": "33e25b93-dd6b-49e5-8945-0c9da9942e72",
   "metadata": {},
   "outputs": [],
   "source": [
    "def search_engine(title):\n",
    "    title= title_cleaning(title)\n",
    "    numerical_title=Tf_id.transform([title])\n",
    "    similarity_score= cosine_similarity(numerical_title,title_matrix).flatten()\n",
    "    #now we need some 5 top similar titles, we can use arg sort function which gives the indices of top 5 similar movies\n",
    "    top5_movies_indices=np.argsort(similarity_score)[-5:][::-1]\n",
    "    return movies_data.iloc[top5_movies_indices]\n",
    "    \n",
    "    \n",
    "    \n",
    "    "
   ]
  },
  {
   "cell_type": "code",
   "execution_count": 42,
   "id": "eb845abd-f656-464c-9511-be9cd6f26afa",
   "metadata": {},
   "outputs": [
    {
     "data": {
      "text/plain": [
       "5"
      ]
     },
     "execution_count": 42,
     "metadata": {},
     "output_type": "execute_result"
    }
   ],
   "source": [
    "len(search_engine(\"Toy Story (1995)\"))"
   ]
  },
  {
   "cell_type": "markdown",
   "id": "69cb0569-28a1-45b8-a8cb-71039d5d4b16",
   "metadata": {},
   "source": [
    "Create an interactive search engine"
   ]
  },
  {
   "cell_type": "code",
   "execution_count": 34,
   "id": "3f02d151-1ac0-4298-8aff-2506ca356e04",
   "metadata": {},
   "outputs": [],
   "source": [
    "import ipywidgets as widgets\n",
    "from IPython.display import display\n",
    "\n",
    "\n"
   ]
  },
  {
   "cell_type": "code",
   "execution_count": 60,
   "id": "59c2fe37-4dff-4fca-a43a-b803548b84ac",
   "metadata": {},
   "outputs": [],
   "source": [
    "input_movie_name= widgets.Text(value=\"Avengers\", description=\"Search for the movie\",disabled=False)\n",
    "\n",
    "movies_output= widgets.Output()"
   ]
  },
  {
   "cell_type": "code",
   "execution_count": 62,
   "id": "1a2e8fa2-737a-488d-b3c6-9cc378090f87",
   "metadata": {},
   "outputs": [
    {
     "data": {
      "application/vnd.jupyter.widget-view+json": {
       "model_id": "588039e2f2f24544bc08651461c8d06d",
       "version_major": 2,
       "version_minor": 0
      },
      "text/plain": [
       "Text(value='Avengers', description='Search for the movie')"
      ]
     },
     "metadata": {},
     "output_type": "display_data"
    },
    {
     "data": {
      "application/vnd.jupyter.widget-view+json": {
       "model_id": "eb077e24cf1e42728bc01f068a4ad994",
       "version_major": 2,
       "version_minor": 0
      },
      "text/plain": [
       "Output()"
      ]
     },
     "metadata": {},
     "output_type": "display_data"
    }
   ],
   "source": [
    "def on_input(text):\n",
    "    with movies_output:\n",
    "        movies_output.clear_output()\n",
    "        output=search_engine(text['new'])\n",
    "        if len(output)==5:\n",
    "            display(output)\n",
    "        else:\n",
    "            display(\"Movie name not found\")\n",
    "\n",
    "input_movie_name.observe(on_input, names=\"value\")\n",
    "\n",
    "display(input_movie_name,movies_output)\n",
    "            \n",
    "          \n",
    "        "
   ]
  },
  {
   "cell_type": "code",
   "execution_count": 64,
   "id": "e9237ea1-f4d1-4ada-84c2-5c2990368ca6",
   "metadata": {},
   "outputs": [],
   "source": [
    "ratings_data=pd.read_csv('ratings.csv')"
   ]
  },
  {
   "cell_type": "code",
   "execution_count": 74,
   "id": "557c9615-d490-4b81-bb74-ed8ff8910cca",
   "metadata": {},
   "outputs": [
    {
     "data": {
      "text/html": [
       "<div>\n",
       "<style scoped>\n",
       "    .dataframe tbody tr th:only-of-type {\n",
       "        vertical-align: middle;\n",
       "    }\n",
       "\n",
       "    .dataframe tbody tr th {\n",
       "        vertical-align: top;\n",
       "    }\n",
       "\n",
       "    .dataframe thead th {\n",
       "        text-align: right;\n",
       "    }\n",
       "</style>\n",
       "<table border=\"1\" class=\"dataframe\">\n",
       "  <thead>\n",
       "    <tr style=\"text-align: right;\">\n",
       "      <th></th>\n",
       "      <th>userId</th>\n",
       "      <th>movieId</th>\n",
       "      <th>rating</th>\n",
       "      <th>timestamp</th>\n",
       "    </tr>\n",
       "  </thead>\n",
       "  <tbody>\n",
       "    <tr>\n",
       "      <th>0</th>\n",
       "      <td>1</td>\n",
       "      <td>296</td>\n",
       "      <td>5.0</td>\n",
       "      <td>1147880044</td>\n",
       "    </tr>\n",
       "    <tr>\n",
       "      <th>1</th>\n",
       "      <td>1</td>\n",
       "      <td>306</td>\n",
       "      <td>3.5</td>\n",
       "      <td>1147868817</td>\n",
       "    </tr>\n",
       "    <tr>\n",
       "      <th>2</th>\n",
       "      <td>1</td>\n",
       "      <td>307</td>\n",
       "      <td>5.0</td>\n",
       "      <td>1147868828</td>\n",
       "    </tr>\n",
       "    <tr>\n",
       "      <th>3</th>\n",
       "      <td>1</td>\n",
       "      <td>665</td>\n",
       "      <td>5.0</td>\n",
       "      <td>1147878820</td>\n",
       "    </tr>\n",
       "    <tr>\n",
       "      <th>4</th>\n",
       "      <td>1</td>\n",
       "      <td>899</td>\n",
       "      <td>3.5</td>\n",
       "      <td>1147868510</td>\n",
       "    </tr>\n",
       "  </tbody>\n",
       "</table>\n",
       "</div>"
      ],
      "text/plain": [
       "   userId  movieId  rating   timestamp\n",
       "0       1      296     5.0  1147880044\n",
       "1       1      306     3.5  1147868817\n",
       "2       1      307     5.0  1147868828\n",
       "3       1      665     5.0  1147878820\n",
       "4       1      899     3.5  1147868510"
      ]
     },
     "execution_count": 74,
     "metadata": {},
     "output_type": "execute_result"
    }
   ],
   "source": [
    "ratings_data.head()"
   ]
  },
  {
   "cell_type": "code",
   "execution_count": 72,
   "id": "d8260732-da47-41fb-a9fa-99140ecff612",
   "metadata": {},
   "outputs": [
    {
     "data": {
      "text/plain": [
       "Index(['userId', 'movieId', 'rating', 'timestamp'], dtype='object')"
      ]
     },
     "execution_count": 72,
     "metadata": {},
     "output_type": "execute_result"
    }
   ],
   "source": [
    "ratings_data.columns"
   ]
  },
  {
   "cell_type": "code",
   "execution_count": 66,
   "id": "b01c6857-77cc-4079-bfdb-9084356c7d49",
   "metadata": {},
   "outputs": [
    {
     "data": {
      "text/plain": [
       "(62423, 4)"
      ]
     },
     "execution_count": 66,
     "metadata": {},
     "output_type": "execute_result"
    }
   ],
   "source": [
    "movies_data.shape"
   ]
  },
  {
   "cell_type": "code",
   "execution_count": 68,
   "id": "ca9dc4ea-7767-4135-9e8f-3062ffd43522",
   "metadata": {},
   "outputs": [
    {
     "data": {
      "text/plain": [
       "(25000095, 4)"
      ]
     },
     "execution_count": 68,
     "metadata": {},
     "output_type": "execute_result"
    }
   ],
   "source": [
    "ratings_data.shape"
   ]
  },
  {
   "cell_type": "code",
   "execution_count": 187,
   "id": "1814cd90-a8ca-4417-a0bc-b123bbfface3",
   "metadata": {},
   "outputs": [],
   "source": [
    "movie_id=1"
   ]
  },
  {
   "cell_type": "markdown",
   "id": "7ca26375-77dd-49e5-9560-641bb40a16ac",
   "metadata": {},
   "source": [
    "our motive is find out the users who liked the given movie and the other movies which are liked by 10% of them.This is first part.Now the second part is find out the movies (which are liked by similar users ) liked by all."
   ]
  },
  {
   "cell_type": "code",
   "execution_count": 335,
   "id": "a4862fbc-bba7-4703-9a53-d1e2451e6f49",
   "metadata": {},
   "outputs": [],
   "source": [
    "def movie_recommendation(movie_id):\n",
    "    \n",
    "    similar_users= ratings_data[(ratings_data['movieId']==movie_id)&(ratings_data['rating']>=4)]['userId'].unique()\n",
    "    #print(similar_users)\n",
    "    similar_user_records= ratings_data[(ratings_data['userId'].isin(similar_users))& (ratings_data['rating']>=4)]['movieId']\n",
    "    #The below line gives the movies which are liked by more than 10% of the users who liked the given movieid\n",
    "    #print(similar_user_records)\n",
    "    similar_user_records=similar_user_records.value_counts()/len(similar_users)\n",
    "    #print(val_c)\n",
    "    #print(type(similar_user_records))\n",
    "    #print(similar_user_records)\n",
    "    similar_user_records=similar_user_records[similar_user_records>0.10]\n",
    "    all_user_recs=ratings_data[(ratings_data['movieId'].isin(similar_user_records.index))& (ratings_data['rating']>4)]\n",
    "    all_user=all_user_recs['movieId'].value_counts()/len(all_user_recs['userId'].unique())\n",
    "    \n",
    "    combined_data=pd.concat([similar_user_records,all_user],axis=1)\n",
    "    combined_data.columns=['similar','all']\n",
    "    combined_data['rec_score']= combined_data['similar']/combined_data['all']\n",
    "    return combined_data.merge(movies_data,left_index=True,right_on='movieId')[[\"rec_score\", \"title\", \"genres\"]]\n",
    "\n",
    "\n",
    "\n",
    "\n",
    "    "
   ]
  },
  {
   "cell_type": "markdown",
   "id": "42fd1484-6304-4799-bf5e-61a16253b0e9",
   "metadata": {},
   "source": [
    "I created this function as if given movie is rated less than 2 by every user,I still want some recommendatiions"
   ]
  },
  {
   "cell_type": "code",
   "execution_count": 337,
   "id": "ee502f69-39e9-4494-8993-066e6e675ec3",
   "metadata": {},
   "outputs": [],
   "source": [
    "def movie_recommendation_2(movie_id):\n",
    "    similar_users= ratings_data[(ratings_data['movieId']==movie_id)&(ratings_data['rating']>=1)]['userId'].unique()\n",
    "    print(similar_users)\n",
    "    similar_user_records= ratings_data[(ratings_data['userId'].isin(similar_users))& (ratings_data['rating']>=1)]['movieId']\n",
    "    #The below line gives the movies which are liked by more than 10% of the users who liked the given movieid\n",
    "    #print(similar_user_records)\n",
    "    similar_user_records=similar_user_records.value_counts()/len(similar_users)\n",
    "    #print(val_c)\n",
    "    #print(type(similar_user_records))\n",
    "    #print(similar_user_records)\n",
    "    similar_user_records=similar_user_records[similar_user_records>0.10]\n",
    "    all_user_recs=ratings_data[(ratings_data['movieId'].isin(similar_user_records.index))& (ratings_data['rating']>4)]\n",
    "    all_user=all_user_recs['movieId'].value_counts()/len(all_user_recs['userId'].unique())\n",
    "    \n",
    "    combined_data=pd.concat([similar_user_records,all_user],axis=1)\n",
    "    combined_data.columns=['similar','all']\n",
    "    combined_data['rec_score']= combined_data['similar']/combined_data['all']\n",
    "    return combined_data.merge(movies_data,left_index=True,right_on='movieId')[[\"rec_score\", \"title\", \"genres\"]]"
   ]
  },
  {
   "cell_type": "code",
   "execution_count": 339,
   "id": "b9f656d8-67e3-4500-bb0a-6f3f5905516d",
   "metadata": {},
   "outputs": [],
   "source": [
    "import ipywidgets as widgets\n",
    "from IPython.display import display "
   ]
  },
  {
   "cell_type": "code",
   "execution_count": 343,
   "id": "676f67ae-d42b-4553-aed8-a13f161d70e0",
   "metadata": {},
   "outputs": [
    {
     "data": {
      "application/vnd.jupyter.widget-view+json": {
       "model_id": "e2c323aa56ad487dad3efd526f256310",
       "version_major": 2,
       "version_minor": 0
      },
      "text/plain": [
       "Text(value='Avengers', description='Please Enter the Movie Title')"
      ]
     },
     "metadata": {},
     "output_type": "display_data"
    },
    {
     "data": {
      "application/vnd.jupyter.widget-view+json": {
       "model_id": "9c34affae8ad457b96ec58c78ae4eb3a",
       "version_major": 2,
       "version_minor": 0
      },
      "text/plain": [
       "Output()"
      ]
     },
     "metadata": {},
     "output_type": "display_data"
    }
   ],
   "source": [
    "movie_input_name=widgets.Text(value=\"Avengers\",description=\"Please Enter the Movie Title\",disabled=False)\n",
    "output_list=widgets.Output()\n",
    "\n",
    "def search(movie_name):\n",
    "    with output_list:\n",
    "        output_list.clear_output()\n",
    "        movie_name=movie_name['new']\n",
    "        #print(movie_name)\n",
    "        result=search_engine(movie_name).iloc[0]['movieId']\n",
    "        #print(result)\n",
    "        if len(movie_recommendation(result))>1:\n",
    "            display(movie_recommendation(result))\n",
    "        else:\n",
    "            display(movie_recommendation_2(result))\n",
    "\n",
    "\n",
    "movie_input_name.observe(search,names=\"value\")\n",
    "display(movie_input_name,output_list)\n",
    "        \n",
    "        \n",
    "        \n",
    "\n"
   ]
  },
  {
   "cell_type": "code",
   "execution_count": null,
   "id": "aa8ffc76-2c4e-4165-8ad8-9d0ee85ba5d4",
   "metadata": {},
   "outputs": [],
   "source": []
  },
  {
   "cell_type": "code",
   "execution_count": null,
   "id": "a04fb972-3f18-449d-a27c-4dc9b83b0739",
   "metadata": {},
   "outputs": [],
   "source": []
  }
 ],
 "metadata": {
  "kernelspec": {
   "display_name": "Python 3 (ipykernel)",
   "language": "python",
   "name": "python3"
  },
  "language_info": {
   "codemirror_mode": {
    "name": "ipython",
    "version": 3
   },
   "file_extension": ".py",
   "mimetype": "text/x-python",
   "name": "python",
   "nbconvert_exporter": "python",
   "pygments_lexer": "ipython3",
   "version": "3.12.2"
  }
 },
 "nbformat": 4,
 "nbformat_minor": 5
}
